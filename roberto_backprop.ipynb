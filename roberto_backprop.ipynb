{
 "cells": [
  {
   "cell_type": "code",
   "execution_count": 1,
   "metadata": {},
   "outputs": [],
   "source": [
    "import numpy as np\n",
    "import matplotlib.pyplot as plt\n",
    "from tqdm import tqdm\n",
    "import pickle\n",
    "import time\n",
    "\n",
    "np.random.seed(42)\n",
    "\n",
    "\n",
    "class Activation:\n",
    "    @staticmethod\n",
    "    def relu(z):\n",
    "        return np.maximum(0, z)\n",
    "    \n",
    "    @staticmethod\n",
    "    def relu_derivative(z):\n",
    "        return np.where(z > 0, 1, 0)\n",
    "\n",
    "    @staticmethod\n",
    "    def sigmoid(z):\n",
    "        return 1 / (1 + np.exp(-z))\n",
    "    \n",
    "    @staticmethod\n",
    "    def sigmoid_derivative(z):\n",
    "        s = Activation.sigmoid(z)\n",
    "        return s * (1 - s)\n",
    "\n",
    "    @staticmethod\n",
    "    def tanh(z):\n",
    "        return np.tanh(z)\n",
    "    \n",
    "    @staticmethod\n",
    "    def tanh_derivative(z):\n",
    "        return 1 - np.tanh(z)**2\n",
    "\n",
    "    @staticmethod\n",
    "    def LeakyReLU(z, alpha=0.01):\n",
    "        return np.maximum(alpha*z, z)\n",
    "    \n",
    "    @staticmethod\n",
    "    def LeakyReLU_derivative(z, alpha=0.01):\n",
    "        return np.where(z > 0, 1, alpha)\n",
    "\n",
    "    @staticmethod\n",
    "    def linear(z):\n",
    "        return z\n",
    "    \n",
    "    @staticmethod\n",
    "    def linear_derivative(z):\n",
    "        return np.ones_like(z)\n",
    "    \n",
    "    @staticmethod\n",
    "    def softmax(z):\n",
    "        # Ficou brabo, not stable \n",
    "        # (https://stackoverflow.com/questions/40575841/numpy-calculate-the-derivative-of-the-softmax-function)\n",
    "        # So we subtract the maximum value from the input to make it stable\n",
    "        e_x = np.exp(z - np.max(z, axis=-1, keepdims=True))\n",
    "        return e_x / np.sum(e_x, axis=-1, keepdims=True)\n",
    "    \n",
    "    @staticmethod\n",
    "    def softmax_derivative(z):\n",
    "        # Compute softmax for z\n",
    "        s = Activation.softmax(z)  # shape (batch_size, num_classes)\n",
    "        \n",
    "        # For each sample in the batch, compute the derivative\n",
    "        # Softmax derivative simplification for backpropagation\n",
    "        return s * (1 - s)\n",
    "    \n",
    "class Loss:\n",
    "    @staticmethod\n",
    "    def MSE(y, y_hat):\n",
    "        return 1 / y.shape[0]*(y - y_hat).T @ (y - y_hat)\n",
    "    \n",
    "    def MSE_derivative(y, y_hat):\n",
    "        return y_hat - y\n",
    "\n",
    "    @staticmethod\n",
    "    def BCE(y, y_hat):\n",
    "        return -1 / y.shape[0] * (y * np.log(y_hat) + (1 - y) * np.log(1 - y_hat))\n",
    "    \n",
    "    def BCE_derivative(y, y_hat):\n",
    "        return (y_hat - y) / (y_hat * (1 - y_hat))\n",
    "    \n",
    "    @staticmethod\n",
    "    def CrossEntropy(y, y_hat):\n",
    "        y_hat = np.clip(y_hat, 1e-15, 1-1e-15)\n",
    "        return -1 / y.shape[0] * np.sum(y * np.log(y_hat))\n",
    "    \n",
    "    def CrossEntropy_derivative(y, y_hat):\n",
    "        return y_hat - y\n",
    "    \n",
    "class Initialization:\n",
    "    @staticmethod\n",
    "    def xavier(size):\n",
    "        (fan_in, fan_out) = size[0], size[1]\n",
    "        stddev = np.sqrt(2 / (fan_in + fan_out))\n",
    "        return np.random.normal(0, stddev, size=size)\n",
    "    \n",
    "    @staticmethod\n",
    "    def he(size):\n",
    "        fan_in = size[0]\n",
    "        stddev = np.sqrt(2 / fan_in)\n",
    "        return np.random.normal(0, stddev, size=size)\n",
    "    \n",
    "    @staticmethod\n",
    "    def normal(size):\n",
    "        return np.random.randn(*size)\n",
    "    \n",
    "    @staticmethod\n",
    "    def uniform(size):\n",
    "        return np.random.uniform(size=size)\n",
    "    \n",
    "    @staticmethod\n",
    "    def zeros(size):\n",
    "        return np.zeros(size)\n",
    "\n",
    "class Optimizer:\n",
    "    def __init__(self, learning_rate, network):\n",
    "        self.learning_rate = learning_rate\n",
    "        self.grads = network.grads\n",
    "        self.weights = network.weights\n",
    "        self.biases = network.biases\n",
    "    \n",
    "    def zero_grad(self):\n",
    "        return {key: np.zeros_like(value) for key, value in self.grads.items()}\n",
    "\n",
    "class SGD(Optimizer):\n",
    "    def __init__(self, learning_rate, network):\n",
    "        super().__init__(learning_rate, network)\n",
    "        \n",
    "    def step(self):\n",
    "        for i in range(len(self.weights)):\n",
    "            \n",
    "            self.weights[i] = self.weights[i] - self.learning_rate * self.grads[f'dw{i+1}']\n",
    "            self.biases[i] = self.biases[i] - self.learning_rate * self.grads[f'db{i+1}']\n",
    "            \n",
    "        return self.weights, self.biases\n",
    "\n",
    "class Adam(Optimizer):\n",
    "    def __init__(self, learning_rate, network, beta1=0.9, gamma=0.999, epsilon=1e-8):\n",
    "        super().__init__(learning_rate, network)\n",
    "        self.beta1 = beta1\n",
    "        self.gamma = gamma\n",
    "        self.epsilon = epsilon\n",
    "        # Initializing as zeros so that we can have momentum and RMSprop for each parameter\n",
    "        self.m_w = [np.zeros_like(w) for w in self.weights]\n",
    "        self.v_w = [np.zeros_like(w) for w in self.weights]\n",
    "        self.m_b = [np.zeros_like(b) for b in self.biases]\n",
    "        self.v_b = [np.zeros_like(b) for b in self.biases]\n",
    "        self.t = 0\n",
    "        \n",
    "    def step(self):\n",
    "        self.t += 1\n",
    "        for i in range(len(self.weights)):\n",
    "            # Update for weights\n",
    "            self.m_w[i] = self.beta1 * self.m_w[i] + (1 - self.beta1) * self.grads[f'dw{i+1}']\n",
    "            self.v_w[i] = self.gamma * self.v_w[i] + (1 - self.gamma) * np.square(self.grads[f'dw{i+1}'])\n",
    "            m_w_hat = self.m_w[i] / (1 - self.beta1**self.t)\n",
    "            v_w_hat = self.v_w[i] / (1 - self.gamma**self.t)\n",
    "            self.weights[i] = self.weights[i] - self.learning_rate * m_w_hat / (np.sqrt(v_w_hat) + self.epsilon)\n",
    "            \n",
    "            # Update for biases\n",
    "            self.m_b[i] = self.beta1 * self.m_b[i] + (1 - self.beta1) * self.grads[f'db{i+1}']\n",
    "            self.v_b[i] = self.gamma * self.v_b[i] + (1 - self.gamma) * np.square(self.grads[f'db{i+1}'])\n",
    "            m_b_hat = self.m_b[i] / (1 - self.beta1**self.t)\n",
    "            v_b_hat = self.v_b[i] / (1 - self.gamma**self.t)\n",
    "            self.biases[i] = self.biases[i] - self.learning_rate * m_b_hat / (np.sqrt(v_b_hat) + self.epsilon)\n",
    "        \n",
    "        return self.weights, self.biases\n",
    "    \n",
    "    \n",
    "class MLP:\n",
    "    def __init__(self, neurons, activations, weight_initialization) -> None:\n",
    "        self.MLP_DEPTH = len(neurons) - 1\n",
    "        self.neurons = neurons\n",
    "        if len(activations) == 1:\n",
    "            self.activations = [activations[0] for _ in range(self.MLP_DEPTH)]\n",
    "        elif len(activations) == 2 and self.MLP_DEPTH > 2:\n",
    "            self.activations = [activations[0] for _ in range(self.MLP_DEPTH)]\n",
    "            self.activations[-1] = activations[1]\n",
    "        else:\n",
    "            self.activations = activations\n",
    "            \n",
    "        self.activation_derivatives = [getattr(Activation, f\"{activation.__name__}_derivative\") for activation in self.activations]\n",
    "        \n",
    "        \n",
    "        if isinstance(weight_initialization, list):\n",
    "            # Direct weight assignment\n",
    "            self.weights = weight_initialization\n",
    "        else:\n",
    "            # Use initialization method\n",
    "            self.weights = [np.squeeze(weight_initialization((neurons[i+1], neurons[i]))) for i in range(self.MLP_DEPTH)]\n",
    "            \n",
    "        self.biases = [np.zeros((neurons[i + 1])) for i in range(self.MLP_DEPTH)]\n",
    "        \n",
    "        self.cache = {}\n",
    "        self.grads = {}\n",
    "    \n",
    "    def forward(self, input):\n",
    "\n",
    "        self.cache['a0'] = a = input\n",
    "        \n",
    "        for i in range(self.MLP_DEPTH):\n",
    "            z = a @ self.weights[i].T + self.biases[i]\n",
    "            a = self.activations[i](z)\n",
    "\n",
    "            self.cache[f'w{i+1}'] = self.weights[i]\n",
    "            self.cache[f'z{i+1}'] = z\n",
    "            self.cache[f'a{i+1}'] = a\n",
    "            \n",
    "        return a\n",
    "\n",
    "    def backward(self, y, loss):\n",
    "        BATCH_SIZE = y.shape[0]\n",
    "        \n",
    "        self.loss_derivative = getattr(Loss, f\"{loss.__name__}_derivative\")\n",
    "        \n",
    "        # Output layer\n",
    "        dz = self.loss_derivative(y, self.cache[f'a{self.MLP_DEPTH}'])\n",
    "        da = self.activation_derivatives[self.MLP_DEPTH-1](self.cache[f'z{self.MLP_DEPTH}'])\n",
    "        dl = dz * da\n",
    "        \n",
    "        self.grads[f'dw{self.MLP_DEPTH}'] = (1/BATCH_SIZE) * dl.T @ self.cache[f'a{self.MLP_DEPTH-1}']\n",
    "        self.grads[f'db{self.MLP_DEPTH}'] = (1/BATCH_SIZE) * np.sum(dz, axis=0, keepdims=True)\n",
    "\n",
    "        for i in range(self.MLP_DEPTH, 1, -1):\n",
    "            if len(dl.shape) == 1:\n",
    "                dl = dl.reshape(-1, 1)\n",
    "            if len(self.cache[f'w{i}'].shape) == 1:\n",
    "                self.cache[f'w{i}'] = self.cache[f'w{i}'].reshape(1, -1)\n",
    "\n",
    "            dz = dl @ self.cache[f'w{i}']\n",
    "\n",
    "            dz *= self.activation_derivatives[i-1](self.cache[f'a{i-1}'])\n",
    "            \n",
    "            self.grads[f'dw{i-1}'] = (1/BATCH_SIZE) * dz.T @ self.cache[f'a{i-2}']\n",
    "            self.grads[f'db{i-1}'] = (1/BATCH_SIZE) * np.sum(dz, axis=0, keepdims=True)\n",
    "            dl = dz\n",
    "            \n",
    "            \n",
    "    def save(self, filepath):\n",
    "        \"\"\"Save the model weights and biases to a file.\"\"\"\n",
    "        model_data = {\n",
    "            'weights': self.weights,\n",
    "            'biases': self.biases,\n",
    "            'neurons': self.neurons,\n",
    "            'activations': [act.__name__ for act in self.activations]\n",
    "        }\n",
    "        with open(filepath, 'wb') as f:\n",
    "            pickle.dump(model_data, f)\n",
    "        print(f\"Model saved to {filepath}\")\n",
    "\n",
    "    @classmethod\n",
    "    def load(cls, filepath, weight_initialization):\n",
    "        \"\"\"Load a model from a file.\"\"\"\n",
    "        with open(filepath, 'rb') as f:\n",
    "            model_data = pickle.load(f)\n",
    "        \n",
    "        # Recreate activation functions from their names\n",
    "        activations = [getattr(Activation, act_name) for act_name in model_data['activations']]\n",
    "        \n",
    "        # Create a new instance of the model\n",
    "        model = cls(model_data['neurons'], activations, weight_initialization)\n",
    "        \n",
    "        # Load the weights and biases\n",
    "        model.weights = model_data['weights']\n",
    "        model.biases = model_data['biases']\n",
    "        \n",
    "        print(f\"Model loaded from {filepath}\")\n",
    "        return model\n"
   ]
  },
  {
   "cell_type": "code",
   "execution_count": 2,
   "metadata": {},
   "outputs": [],
   "source": [
    "class Dataset:\n",
    "    def __init__(self, train_set, train_labels, test_set, test_labels, val_split=0.15, num_classes=10):\n",
    "        self.train_set = train_set\n",
    "        self.test_set = test_set\n",
    "        self.num_classes = num_classes\n",
    "        \n",
    "        # One-hot encode the labels\n",
    "        self.train_labels = self.one_hot_encode(train_labels)\n",
    "        self.test_labels = self.one_hot_encode(test_labels)\n",
    "        \n",
    "        # Create validation set\n",
    "        val_size = int(len(train_set) * val_split)\n",
    "        self.val_set = train_set[-val_size:]\n",
    "        self.val_labels = self.train_labels[-val_size:]\n",
    "        self.train_set = train_set[:-val_size]\n",
    "        self.train_labels = self.train_labels[:-val_size]\n",
    "    \n",
    "    def one_hot_encode(self, labels):\n",
    "        # Ensure labels is a 1D array\n",
    "        labels = np.array(labels).ravel()\n",
    "        # Check if labels are in the correct range\n",
    "        if np.min(labels) < 0 or np.max(labels) >= self.num_classes:\n",
    "            raise ValueError(f\"Labels must be in the range 0 to {self.num_classes-1}\")\n",
    "        # Create one-hot encoded array\n",
    "        one_hot = np.zeros((labels.size, self.num_classes))\n",
    "        one_hot[np.arange(labels.size), labels] = 1\n",
    "        return one_hot\n",
    "    \n",
    "    def create_batches(self, batch_size, dataset='train'):\n",
    "        if dataset == 'train':\n",
    "            data, labels = self.train_set, self.train_labels\n",
    "        elif dataset == 'val':\n",
    "            data, labels = self.val_set, self.val_labels\n",
    "        elif dataset == 'test':\n",
    "            data, labels = self.test_set, self.test_labels\n",
    "        else:\n",
    "            raise ValueError(\"dataset must be 'train', 'val', or 'test'\")\n",
    "        \n",
    "        indices = np.arange(len(data))\n",
    "        np.random.shuffle(indices)\n",
    "        for start_idx in range(0, len(data), batch_size):\n",
    "            batch_indices = indices[start_idx:start_idx+batch_size]\n",
    "            yield data[batch_indices], labels[batch_indices]\n",
    "    \n",
    "    def get_test_data(self):\n",
    "        return self.test_set, self.test_labels\n",
    "    \n",
    "    def get_val_data(self):\n",
    "        return self.val_set, self.val_labels"
   ]
  },
  {
   "cell_type": "code",
   "execution_count": 3,
   "metadata": {},
   "outputs": [],
   "source": [
    "def test_whole_set(model, test_data, test_labels, loss_fn):\n",
    "    y_hat = model.forward(test_data)\n",
    "    total_loss = loss_fn(test_labels, y_hat)\n",
    "    \n",
    "    predictions = np.argmax(y_hat, axis=1)\n",
    "    true_labels = np.argmax(test_labels, axis=1)\n",
    "    accuracy = np.mean(predictions == true_labels)\n",
    "    \n",
    "    return accuracy, total_loss\n",
    "\n",
    "\n",
    "def train(model, dataset, epochs, optimizer, loss_fn, batch_size=32, save_path=\"./models/best_model.pkl\"):\n",
    "    metrics = {}\n",
    "    metrics[\"train_loss\"] = []\n",
    "    metrics[\"val_loss\"] = []\n",
    "    metrics[\"val_acc\"] = []\n",
    "    metrics[\"network_grads\"] = []\n",
    "    metrics[\"network_activations\"] = []\n",
    "    metrics[\"train_time\"] = []\n",
    "    best_val_acc = 0\n",
    "    \n",
    "    for epoch in tqdm(range(epochs)):\n",
    "        batch_loss = 0\n",
    "        \n",
    "        for X_batch, y_batch in dataset.create_batches(batch_size, 'train'):\n",
    "            \n",
    "            start = time.time()\n",
    "            pred = model.forward(X_batch)\n",
    "            batch_loss += loss_fn(y_batch, pred)\n",
    "            model.backward(y_batch, loss_fn)\n",
    "            model.weights, model.biases = optimizer.step()\n",
    "            metrics[\"network_grads\"].append(model.grads)\n",
    "            metrics[\"network_activations\"].append([v for k,v in model.cache.items() if 'a' in k and '0' not in k])\n",
    "            \n",
    "        metrics[\"train_time\"].append(time.time() - start)\n",
    "        \n",
    "        # Validate on validation set\n",
    "        val_acc, val_loss = test_whole_set(model, *dataset.get_val_data(), loss_fn)\n",
    "        metrics[\"val_loss\"].append(val_loss)\n",
    "        metrics[\"val_acc\"].append(val_acc)\n",
    "        metrics[\"train_loss\"].append(batch_loss / (len(dataset.train_set) // batch_size))\n",
    "        print(f\"Epoch {epoch} Train Loss: {metrics['train_loss'][-1]:.4f}, Val Acc: {val_acc:.4f}, Val Loss: {val_loss:.4f}\")\n",
    "        \n",
    "        # Save the best model\n",
    "        if val_acc > best_val_acc:\n",
    "            best_val_acc = val_acc\n",
    "            model.save(save_path)\n",
    "            print(f\"New best model saved with validation accuracy: {best_val_acc:.4f}\")\n",
    "            \n",
    "    return metrics\n"
   ]
  },
  {
   "cell_type": "code",
   "execution_count": 4,
   "metadata": {},
   "outputs": [],
   "source": [
    "train_set = np.load('data/mnist_train_data.npy')\n",
    "train_labels = np.load('data/mnist_train_labels.npy')\n",
    "test_set = np.load('data/mnist_test_data.npy')\n",
    "test_labels = np.load('data/mnist_test_labels.npy')\n",
    "\n",
    "dataset = Dataset(train_set, train_labels, test_set, test_labels)"
   ]
  },
  {
   "cell_type": "code",
   "execution_count": 5,
   "metadata": {},
   "outputs": [
    {
     "name": "stderr",
     "output_type": "stream",
     "text": [
      "  2%|▏         | 1/50 [00:07<05:56,  7.28s/it]"
     ]
    },
    {
     "name": "stdout",
     "output_type": "stream",
     "text": [
      "Epoch 0 Train Loss: 3.3155, Val Acc: 0.8606, Val Loss: 1.2859\n",
      "Model saved to ./models/best_model.pkl\n",
      "New best model saved with validation accuracy: 0.8606\n"
     ]
    },
    {
     "name": "stderr",
     "output_type": "stream",
     "text": [
      "  4%|▍         | 2/50 [00:13<05:19,  6.66s/it]"
     ]
    },
    {
     "name": "stdout",
     "output_type": "stream",
     "text": [
      "Epoch 1 Train Loss: 1.2316, Val Acc: 0.8948, Val Loss: 0.9493\n",
      "Model saved to ./models/best_model.pkl\n",
      "New best model saved with validation accuracy: 0.8948\n"
     ]
    },
    {
     "name": "stderr",
     "output_type": "stream",
     "text": [
      "  6%|▌         | 3/50 [00:18<04:29,  5.73s/it]"
     ]
    },
    {
     "name": "stdout",
     "output_type": "stream",
     "text": [
      "Epoch 2 Train Loss: 1.0114, Val Acc: 0.9052, Val Loss: 0.8386\n",
      "Model saved to ./models/best_model.pkl\n",
      "New best model saved with validation accuracy: 0.9052\n"
     ]
    },
    {
     "name": "stderr",
     "output_type": "stream",
     "text": [
      "  8%|▊         | 4/50 [00:23<04:19,  5.63s/it]"
     ]
    },
    {
     "name": "stdout",
     "output_type": "stream",
     "text": [
      "Epoch 3 Train Loss: 0.9000, Val Acc: 0.9112, Val Loss: 0.7605\n",
      "Model saved to ./models/best_model.pkl\n",
      "New best model saved with validation accuracy: 0.9112\n"
     ]
    },
    {
     "name": "stderr",
     "output_type": "stream",
     "text": [
      " 10%|█         | 5/50 [00:28<03:55,  5.23s/it]"
     ]
    },
    {
     "name": "stdout",
     "output_type": "stream",
     "text": [
      "Epoch 4 Train Loss: 0.8386, Val Acc: 0.9148, Val Loss: 0.7293\n",
      "Model saved to ./models/best_model.pkl\n",
      "New best model saved with validation accuracy: 0.9148\n"
     ]
    },
    {
     "name": "stderr",
     "output_type": "stream",
     "text": [
      " 12%|█▏        | 6/50 [00:32<03:35,  4.89s/it]"
     ]
    },
    {
     "name": "stdout",
     "output_type": "stream",
     "text": [
      "Epoch 5 Train Loss: 0.8066, Val Acc: 0.9189, Val Loss: 0.7038\n",
      "Model saved to ./models/best_model.pkl\n",
      "New best model saved with validation accuracy: 0.9189\n"
     ]
    },
    {
     "name": "stderr",
     "output_type": "stream",
     "text": [
      " 14%|█▍        | 7/50 [00:35<03:12,  4.47s/it]"
     ]
    },
    {
     "name": "stdout",
     "output_type": "stream",
     "text": [
      "Epoch 6 Train Loss: 0.7839, Val Acc: 0.9198, Val Loss: 0.6908\n",
      "Model saved to ./models/best_model.pkl\n",
      "New best model saved with validation accuracy: 0.9198\n"
     ]
    },
    {
     "name": "stderr",
     "output_type": "stream",
     "text": [
      " 16%|█▌        | 8/50 [00:40<03:10,  4.54s/it]"
     ]
    },
    {
     "name": "stdout",
     "output_type": "stream",
     "text": [
      "Epoch 7 Train Loss: 0.7656, Val Acc: 0.9212, Val Loss: 0.6838\n",
      "Model saved to ./models/best_model.pkl\n",
      "New best model saved with validation accuracy: 0.9212\n"
     ]
    },
    {
     "name": "stderr",
     "output_type": "stream",
     "text": [
      " 18%|█▊        | 9/50 [00:44<02:54,  4.25s/it]"
     ]
    },
    {
     "name": "stdout",
     "output_type": "stream",
     "text": [
      "Epoch 8 Train Loss: 0.7487, Val Acc: 0.9226, Val Loss: 0.6684\n",
      "Model saved to ./models/best_model.pkl\n",
      "New best model saved with validation accuracy: 0.9226\n"
     ]
    },
    {
     "name": "stderr",
     "output_type": "stream",
     "text": [
      " 20%|██        | 10/50 [00:48<02:44,  4.11s/it]"
     ]
    },
    {
     "name": "stdout",
     "output_type": "stream",
     "text": [
      "Epoch 9 Train Loss: 0.7341, Val Acc: 0.9248, Val Loss: 0.6629\n",
      "Model saved to ./models/best_model.pkl\n",
      "New best model saved with validation accuracy: 0.9248\n"
     ]
    },
    {
     "name": "stderr",
     "output_type": "stream",
     "text": [
      " 22%|██▏       | 11/50 [00:51<02:34,  3.96s/it]"
     ]
    },
    {
     "name": "stdout",
     "output_type": "stream",
     "text": [
      "Epoch 10 Train Loss: 0.7281, Val Acc: 0.9247, Val Loss: 0.6652\n"
     ]
    },
    {
     "name": "stderr",
     "output_type": "stream",
     "text": [
      " 24%|██▍       | 12/50 [00:55<02:23,  3.79s/it]"
     ]
    },
    {
     "name": "stdout",
     "output_type": "stream",
     "text": [
      "Epoch 11 Train Loss: 0.7287, Val Acc: 0.9246, Val Loss: 0.6681\n"
     ]
    },
    {
     "name": "stderr",
     "output_type": "stream",
     "text": [
      " 26%|██▌       | 13/50 [00:58<02:16,  3.70s/it]"
     ]
    },
    {
     "name": "stdout",
     "output_type": "stream",
     "text": [
      "Epoch 12 Train Loss: 0.7260, Val Acc: 0.9248, Val Loss: 0.6606\n"
     ]
    },
    {
     "name": "stderr",
     "output_type": "stream",
     "text": [
      " 28%|██▊       | 14/50 [01:02<02:11,  3.64s/it]"
     ]
    },
    {
     "name": "stdout",
     "output_type": "stream",
     "text": [
      "Epoch 13 Train Loss: 0.7214, Val Acc: 0.9262, Val Loss: 0.6544\n",
      "Model saved to ./models/best_model.pkl\n",
      "New best model saved with validation accuracy: 0.9262\n"
     ]
    },
    {
     "name": "stderr",
     "output_type": "stream",
     "text": [
      " 30%|███       | 15/50 [01:05<02:07,  3.65s/it]"
     ]
    },
    {
     "name": "stdout",
     "output_type": "stream",
     "text": [
      "Epoch 14 Train Loss: 0.7187, Val Acc: 0.9254, Val Loss: 0.6629\n"
     ]
    },
    {
     "name": "stderr",
     "output_type": "stream",
     "text": [
      " 32%|███▏      | 16/50 [01:09<02:01,  3.58s/it]"
     ]
    },
    {
     "name": "stdout",
     "output_type": "stream",
     "text": [
      "Epoch 15 Train Loss: 0.7224, Val Acc: 0.9271, Val Loss: 0.6629\n",
      "Model saved to ./models/best_model.pkl\n",
      "New best model saved with validation accuracy: 0.9271\n"
     ]
    },
    {
     "name": "stderr",
     "output_type": "stream",
     "text": [
      " 34%|███▍      | 17/50 [01:12<01:57,  3.58s/it]"
     ]
    },
    {
     "name": "stdout",
     "output_type": "stream",
     "text": [
      "Epoch 16 Train Loss: 0.7236, Val Acc: 0.9276, Val Loss: 0.6724\n",
      "Model saved to ./models/best_model.pkl\n",
      "New best model saved with validation accuracy: 0.9276\n"
     ]
    },
    {
     "name": "stderr",
     "output_type": "stream",
     "text": [
      " 36%|███▌      | 18/50 [01:17<02:04,  3.88s/it]"
     ]
    },
    {
     "name": "stdout",
     "output_type": "stream",
     "text": [
      "Epoch 17 Train Loss: 0.7236, Val Acc: 0.9280, Val Loss: 0.6709\n",
      "Model saved to ./models/best_model.pkl\n",
      "New best model saved with validation accuracy: 0.9280\n"
     ]
    },
    {
     "name": "stderr",
     "output_type": "stream",
     "text": [
      " 38%|███▊      | 19/50 [01:22<02:13,  4.31s/it]"
     ]
    },
    {
     "name": "stdout",
     "output_type": "stream",
     "text": [
      "Epoch 18 Train Loss: 0.7256, Val Acc: 0.9283, Val Loss: 0.6759\n",
      "Model saved to ./models/best_model.pkl\n",
      "New best model saved with validation accuracy: 0.9283\n"
     ]
    },
    {
     "name": "stderr",
     "output_type": "stream",
     "text": [
      " 40%|████      | 20/50 [01:27<02:11,  4.37s/it]"
     ]
    },
    {
     "name": "stdout",
     "output_type": "stream",
     "text": [
      "Epoch 19 Train Loss: 0.7268, Val Acc: 0.9292, Val Loss: 0.6727\n",
      "Model saved to ./models/best_model.pkl\n",
      "New best model saved with validation accuracy: 0.9292\n"
     ]
    },
    {
     "name": "stderr",
     "output_type": "stream",
     "text": [
      " 42%|████▏     | 21/50 [01:32<02:11,  4.54s/it]"
     ]
    },
    {
     "name": "stdout",
     "output_type": "stream",
     "text": [
      "Epoch 20 Train Loss: 0.7344, Val Acc: 0.9270, Val Loss: 0.7033\n"
     ]
    },
    {
     "name": "stderr",
     "output_type": "stream",
     "text": [
      " 44%|████▍     | 22/50 [01:36<02:05,  4.48s/it]"
     ]
    },
    {
     "name": "stdout",
     "output_type": "stream",
     "text": [
      "Epoch 21 Train Loss: 0.7384, Val Acc: 0.9278, Val Loss: 0.6935\n"
     ]
    },
    {
     "name": "stderr",
     "output_type": "stream",
     "text": [
      " 46%|████▌     | 23/50 [01:40<02:01,  4.49s/it]"
     ]
    },
    {
     "name": "stdout",
     "output_type": "stream",
     "text": [
      "Epoch 22 Train Loss: 0.7418, Val Acc: 0.9291, Val Loss: 0.6879\n"
     ]
    },
    {
     "name": "stderr",
     "output_type": "stream",
     "text": [
      " 48%|████▊     | 24/50 [01:44<01:52,  4.31s/it]"
     ]
    },
    {
     "name": "stdout",
     "output_type": "stream",
     "text": [
      "Epoch 23 Train Loss: 0.7413, Val Acc: 0.9281, Val Loss: 0.6915\n"
     ]
    },
    {
     "name": "stderr",
     "output_type": "stream",
     "text": [
      " 50%|█████     | 25/50 [01:49<01:46,  4.27s/it]"
     ]
    },
    {
     "name": "stdout",
     "output_type": "stream",
     "text": [
      "Epoch 24 Train Loss: 0.7417, Val Acc: 0.9287, Val Loss: 0.6915\n"
     ]
    },
    {
     "name": "stderr",
     "output_type": "stream",
     "text": [
      " 52%|█████▏    | 26/50 [01:53<01:41,  4.24s/it]"
     ]
    },
    {
     "name": "stdout",
     "output_type": "stream",
     "text": [
      "Epoch 25 Train Loss: 0.7421, Val Acc: 0.9289, Val Loss: 0.7005\n"
     ]
    },
    {
     "name": "stderr",
     "output_type": "stream",
     "text": [
      " 54%|█████▍    | 27/50 [01:57<01:35,  4.16s/it]"
     ]
    },
    {
     "name": "stdout",
     "output_type": "stream",
     "text": [
      "Epoch 26 Train Loss: 0.7431, Val Acc: 0.9298, Val Loss: 0.7034\n",
      "Model saved to ./models/best_model.pkl\n",
      "New best model saved with validation accuracy: 0.9298\n"
     ]
    },
    {
     "name": "stderr",
     "output_type": "stream",
     "text": [
      " 56%|█████▌    | 28/50 [02:02<01:39,  4.55s/it]"
     ]
    },
    {
     "name": "stdout",
     "output_type": "stream",
     "text": [
      "Epoch 27 Train Loss: 0.7432, Val Acc: 0.9299, Val Loss: 0.6997\n",
      "Model saved to ./models/best_model.pkl\n",
      "New best model saved with validation accuracy: 0.9299\n"
     ]
    },
    {
     "name": "stderr",
     "output_type": "stream",
     "text": [
      " 58%|█████▊    | 29/50 [02:07<01:36,  4.61s/it]"
     ]
    },
    {
     "name": "stdout",
     "output_type": "stream",
     "text": [
      "Epoch 28 Train Loss: 0.7453, Val Acc: 0.9300, Val Loss: 0.7076\n",
      "Model saved to ./models/best_model.pkl\n",
      "New best model saved with validation accuracy: 0.9300\n"
     ]
    },
    {
     "name": "stderr",
     "output_type": "stream",
     "text": [
      " 60%|██████    | 30/50 [02:11<01:30,  4.53s/it]"
     ]
    },
    {
     "name": "stdout",
     "output_type": "stream",
     "text": [
      "Epoch 29 Train Loss: 0.7493, Val Acc: 0.9301, Val Loss: 0.7052\n",
      "Model saved to ./models/best_model.pkl\n",
      "New best model saved with validation accuracy: 0.9301\n"
     ]
    },
    {
     "name": "stderr",
     "output_type": "stream",
     "text": [
      " 62%|██████▏   | 31/50 [02:15<01:22,  4.36s/it]"
     ]
    },
    {
     "name": "stdout",
     "output_type": "stream",
     "text": [
      "Epoch 30 Train Loss: 0.7505, Val Acc: 0.9301, Val Loss: 0.7059\n"
     ]
    },
    {
     "name": "stderr",
     "output_type": "stream",
     "text": [
      " 64%|██████▍   | 32/50 [02:19<01:17,  4.32s/it]"
     ]
    },
    {
     "name": "stdout",
     "output_type": "stream",
     "text": [
      "Epoch 31 Train Loss: 0.7519, Val Acc: 0.9316, Val Loss: 0.7081\n",
      "Model saved to ./models/best_model.pkl\n",
      "New best model saved with validation accuracy: 0.9316\n"
     ]
    },
    {
     "name": "stderr",
     "output_type": "stream",
     "text": [
      " 66%|██████▌   | 33/50 [02:24<01:14,  4.40s/it]"
     ]
    },
    {
     "name": "stdout",
     "output_type": "stream",
     "text": [
      "Epoch 32 Train Loss: 0.7535, Val Acc: 0.9309, Val Loss: 0.7140\n"
     ]
    },
    {
     "name": "stderr",
     "output_type": "stream",
     "text": [
      " 68%|██████▊   | 34/50 [02:28<01:09,  4.36s/it]"
     ]
    },
    {
     "name": "stdout",
     "output_type": "stream",
     "text": [
      "Epoch 33 Train Loss: 0.7537, Val Acc: 0.9324, Val Loss: 0.7184\n",
      "Model saved to ./models/best_model.pkl\n",
      "New best model saved with validation accuracy: 0.9324\n"
     ]
    },
    {
     "name": "stderr",
     "output_type": "stream",
     "text": [
      " 70%|███████   | 35/50 [02:33<01:05,  4.36s/it]"
     ]
    },
    {
     "name": "stdout",
     "output_type": "stream",
     "text": [
      "Epoch 34 Train Loss: 0.7565, Val Acc: 0.9331, Val Loss: 0.7177\n",
      "Model saved to ./models/best_model.pkl\n",
      "New best model saved with validation accuracy: 0.9331\n"
     ]
    },
    {
     "name": "stderr",
     "output_type": "stream",
     "text": [
      " 72%|███████▏  | 36/50 [02:37<01:00,  4.31s/it]"
     ]
    },
    {
     "name": "stdout",
     "output_type": "stream",
     "text": [
      "Epoch 35 Train Loss: 0.7574, Val Acc: 0.9339, Val Loss: 0.7192\n",
      "Model saved to ./models/best_model.pkl\n",
      "New best model saved with validation accuracy: 0.9339\n"
     ]
    },
    {
     "name": "stderr",
     "output_type": "stream",
     "text": [
      " 74%|███████▍  | 37/50 [02:41<00:56,  4.32s/it]"
     ]
    },
    {
     "name": "stdout",
     "output_type": "stream",
     "text": [
      "Epoch 36 Train Loss: 0.7595, Val Acc: 0.9327, Val Loss: 0.7235\n"
     ]
    },
    {
     "name": "stderr",
     "output_type": "stream",
     "text": [
      " 76%|███████▌  | 38/50 [02:46<00:52,  4.41s/it]"
     ]
    },
    {
     "name": "stdout",
     "output_type": "stream",
     "text": [
      "Epoch 37 Train Loss: 0.7643, Val Acc: 0.9342, Val Loss: 0.7261\n",
      "Model saved to ./models/best_model.pkl\n",
      "New best model saved with validation accuracy: 0.9342\n"
     ]
    },
    {
     "name": "stderr",
     "output_type": "stream",
     "text": [
      " 78%|███████▊  | 39/50 [02:51<00:50,  4.56s/it]"
     ]
    },
    {
     "name": "stdout",
     "output_type": "stream",
     "text": [
      "Epoch 38 Train Loss: 0.7676, Val Acc: 0.9328, Val Loss: 0.7277\n"
     ]
    },
    {
     "name": "stderr",
     "output_type": "stream",
     "text": [
      " 80%|████████  | 40/50 [02:55<00:45,  4.59s/it]"
     ]
    },
    {
     "name": "stdout",
     "output_type": "stream",
     "text": [
      "Epoch 39 Train Loss: 0.7700, Val Acc: 0.9339, Val Loss: 0.7366\n"
     ]
    },
    {
     "name": "stderr",
     "output_type": "stream",
     "text": [
      " 82%|████████▏ | 41/50 [03:01<00:43,  4.88s/it]"
     ]
    },
    {
     "name": "stdout",
     "output_type": "stream",
     "text": [
      "Epoch 40 Train Loss: 0.7723, Val Acc: 0.9336, Val Loss: 0.7395\n"
     ]
    },
    {
     "name": "stderr",
     "output_type": "stream",
     "text": [
      " 84%|████████▍ | 42/50 [03:06<00:40,  5.06s/it]"
     ]
    },
    {
     "name": "stdout",
     "output_type": "stream",
     "text": [
      "Epoch 41 Train Loss: 0.7762, Val Acc: 0.9339, Val Loss: 0.7388\n"
     ]
    },
    {
     "name": "stderr",
     "output_type": "stream",
     "text": [
      " 86%|████████▌ | 43/50 [03:11<00:35,  5.05s/it]"
     ]
    },
    {
     "name": "stdout",
     "output_type": "stream",
     "text": [
      "Epoch 42 Train Loss: 0.7783, Val Acc: 0.9333, Val Loss: 0.7464\n"
     ]
    },
    {
     "name": "stderr",
     "output_type": "stream",
     "text": [
      " 88%|████████▊ | 44/50 [03:16<00:30,  5.02s/it]"
     ]
    },
    {
     "name": "stdout",
     "output_type": "stream",
     "text": [
      "Epoch 43 Train Loss: 0.7826, Val Acc: 0.9337, Val Loss: 0.7438\n"
     ]
    },
    {
     "name": "stderr",
     "output_type": "stream",
     "text": [
      " 90%|█████████ | 45/50 [03:21<00:24,  4.87s/it]"
     ]
    },
    {
     "name": "stdout",
     "output_type": "stream",
     "text": [
      "Epoch 44 Train Loss: 0.7839, Val Acc: 0.9343, Val Loss: 0.7464\n",
      "Model saved to ./models/best_model.pkl\n",
      "New best model saved with validation accuracy: 0.9343\n"
     ]
    },
    {
     "name": "stderr",
     "output_type": "stream",
     "text": [
      " 92%|█████████▏| 46/50 [03:26<00:19,  4.91s/it]"
     ]
    },
    {
     "name": "stdout",
     "output_type": "stream",
     "text": [
      "Epoch 45 Train Loss: 0.7868, Val Acc: 0.9346, Val Loss: 0.7513\n",
      "Model saved to ./models/best_model.pkl\n",
      "New best model saved with validation accuracy: 0.9346\n"
     ]
    },
    {
     "name": "stderr",
     "output_type": "stream",
     "text": [
      " 94%|█████████▍| 47/50 [03:31<00:14,  4.94s/it]"
     ]
    },
    {
     "name": "stdout",
     "output_type": "stream",
     "text": [
      "Epoch 46 Train Loss: 0.7885, Val Acc: 0.9350, Val Loss: 0.7526\n",
      "Model saved to ./models/best_model.pkl\n",
      "New best model saved with validation accuracy: 0.9350\n"
     ]
    },
    {
     "name": "stderr",
     "output_type": "stream",
     "text": [
      " 96%|█████████▌| 48/50 [03:35<00:09,  4.76s/it]"
     ]
    },
    {
     "name": "stdout",
     "output_type": "stream",
     "text": [
      "Epoch 47 Train Loss: 0.7911, Val Acc: 0.9337, Val Loss: 0.7551\n"
     ]
    },
    {
     "name": "stderr",
     "output_type": "stream",
     "text": [
      " 98%|█████████▊| 49/50 [03:40<00:04,  4.70s/it]"
     ]
    },
    {
     "name": "stdout",
     "output_type": "stream",
     "text": [
      "Epoch 48 Train Loss: 0.7921, Val Acc: 0.9332, Val Loss: 0.7620\n"
     ]
    },
    {
     "name": "stderr",
     "output_type": "stream",
     "text": [
      "100%|██████████| 50/50 [03:49<00:00,  4.58s/it]"
     ]
    },
    {
     "name": "stdout",
     "output_type": "stream",
     "text": [
      "Epoch 49 Train Loss: 0.7949, Val Acc: 0.9350, Val Loss: 0.7594\n"
     ]
    },
    {
     "name": "stderr",
     "output_type": "stream",
     "text": [
      "\n"
     ]
    }
   ],
   "source": [
    "EPOCHS = 50\n",
    "BATCH_SIZE = 64\n",
    "loss_fn = Loss.CrossEntropy\n",
    "MODEL = MLP([784, 512, 10], [Activation.relu, Activation.softmax], Initialization.he)\n",
    "optim = Adam(1e-4, MODEL)\n",
    "training_metrics  = train(MODEL, dataset, EPOCHS, optim, loss_fn, BATCH_SIZE)"
   ]
  },
  {
   "cell_type": "code",
   "execution_count": 6,
   "metadata": {},
   "outputs": [
    {
     "name": "stdout",
     "output_type": "stream",
     "text": [
      "Model loaded from models/best_model.pkl\n",
      "Test Accuracy: 0.9238, Test Loss: 0.8973\n"
     ]
    }
   ],
   "source": [
    "# Later, you can load the best model\n",
    "loaded_model = MLP.load('models/best_model.pkl', Initialization.he)\n",
    "\n",
    "# Test the loaded model\n",
    "test_acc, test_loss = test_whole_set(loaded_model, *dataset.get_test_data(), loss_fn)\n",
    "print(f\"Test Accuracy: {test_acc:.4f}, Test Loss: {test_loss:.4f}\")"
   ]
  },
  {
   "cell_type": "code",
   "execution_count": 9,
   "metadata": {},
   "outputs": [
    {
     "name": "stdout",
     "output_type": "stream",
     "text": [
      "7 7\n"
     ]
    },
    {
     "data": {
      "image/png": "[encoded data removed]",
      "text/plain": [
       "<Figure size 640x480 with 1 Axes>"
      ]
     },
     "metadata": {},
     "output_type": "display_data"
    },
    {
     "data": {
      "image/png": "[encoded data removed]",
      "text/plain": [
       "<Figure size 640x480 with 1 Axes>"
      ]
     },
     "metadata": {},
     "output_type": "display_data"
    }
   ],
   "source": [
    "print(np.argmax(MODEL.forward(test_set[0])), test_labels[0])\n",
    "plt.plot(training_metrics[\"train_loss\"])\n",
    "plt.plot(training_metrics[\"val_loss\"])\n",
    "plt.show()\n",
    "plt.plot(training_metrics[\"val_acc\"])\n",
    "plt.show()"
   ]
  },
  {
   "cell_type": "code",
   "execution_count": 10,
   "metadata": {},
   "outputs": [
    {
     "name": "stdout",
     "output_type": "stream",
     "text": [
      "[0.60547144 0.60442057]\n",
      "0.023593481600522267\n"
     ]
    }
   ],
   "source": [
    "X = np.array([[0.5, .1], [.2, .6]])\n",
    "y = np.array([.7, .8])\n",
    "w0 = np.array([[.5, .2], [.6, -.1], [-.4, -.3]])\n",
    "w1 = np.array([.7, -.1, .2])\n",
    "\n",
    "network = MLP([2, 3, 1], [Activation.sigmoid], [w0,w1])\n",
    "\n",
    "output = network.forward(X)\n",
    "loss = Loss.MSE(y, output)\n",
    "print(output)\n",
    "print(loss)\n",
    "\n",
    "network.backward(y, Loss.MSE)\n",
    "optim = SGD(0.1, network)\n",
    "network.weights, network.biases = optim.step()"
   ]
  },
  {
   "cell_type": "code",
   "execution_count": 14,
   "metadata": {},
   "outputs": [],
   "source": [
    "# TODO: Solve MNIST 1D\n",
    "# TODO: Plotting Activ and grads in mini-batches\n",
    "# TODO: Plot val/train loss --\n",
    "# TODO: Plotting acc / epoch --"
   ]
  }
 ],
 "metadata": {
  "kernelspec": {
   "display_name": "backprop",
   "language": "python",
   "name": "python3"
  },
  "language_info": {
   "codemirror_mode": {
    "name": "ipython",
    "version": 3
   },
   "file_extension": ".py",
   "mimetype": "text/x-python",
   "name": "python",
   "nbconvert_exporter": "python",
   "pygments_lexer": "ipython3",
   "version": "3.11.9"
  }
 },
 "nbformat": 4,
 "nbformat_minor": 2
}
