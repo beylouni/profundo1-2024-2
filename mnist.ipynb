{
 "cells": [
  {
   "cell_type": "code",
   "execution_count": 2,
   "metadata": {},
   "outputs": [
    {
     "name": "stdout",
     "output_type": "stream",
     "text": [
      "(60000, 28, 28)\n",
      "(60000,)\n",
      "(10000, 28, 28)\n",
      "(10000,)\n",
      "(60000, 784)\n"
     ]
    }
   ],
   "source": [
    "# Loading MNIST\n",
    "import numpy as np\n",
    "from tensorflow.keras.datasets import mnist\n",
    "from tqdm import tqdm\n",
    "\n",
    "# Download and load the dataset\n",
    "(x_train, y_train), (x_test, y_test) = mnist.load_data()\n",
    "\n",
    "# x_train and x_test are the image data, y_train and y_test are the labels\n",
    "print(x_train.shape)\n",
    "print(y_train.shape)\n",
    "print(x_test.shape)\n",
    "print(y_test.shape)\n",
    "\n",
    "x_train = x_train.reshape(-1, 28*28)\n",
    "x_test = x_test.reshape(-1, 28*28)\n",
    "print(x_train.shape)"
   ]
  },
  {
   "cell_type": "code",
   "execution_count": 6,
   "metadata": {},
   "outputs": [
    {
     "name": "stderr",
     "output_type": "stream",
     "text": [
      "Processing batches: 100%|██████████| 1875/1875 [00:00<00:00, 17560.91it/s]\n",
      "Processing batches: 100%|██████████| 313/313 [00:00<00:00, 23283.51it/s]"
     ]
    },
    {
     "name": "stdout",
     "output_type": "stream",
     "text": [
      "Processed train data shape: (60000, 784)\n",
      "Processed train labels shape: (60000,)\n",
      "Processed test data shape: (10000, 784)\n",
      "Processed test labels shape: (10000,)\n"
     ]
    },
    {
     "name": "stderr",
     "output_type": "stream",
     "text": [
      "\n"
     ]
    }
   ],
   "source": [
    "class Dataset:\n",
    "    def __init__(self, data, labels):\n",
    "        self.data = data\n",
    "        self.labels = labels\n",
    "    \n",
    "    def __len__(self):\n",
    "        return len(self.data)\n",
    "    \n",
    "    def __getitem__(self, idx):\n",
    "        return self.data[idx], self.labels[idx]\n",
    "\n",
    "def create_dataset(x_data, y_data):\n",
    "    return Dataset(x_data, y_data)\n",
    "\n",
    "\n",
    "def pre_process_data(dataset, normalize=True, standardize=True, batch_size=32):\n",
    "    dataset_size = len(dataset)\n",
    "    n_features = dataset[0][0].shape[0]\n",
    "    \n",
    "    data = np.zeros((dataset_size, n_features), dtype=np.float32)\n",
    "    labels = np.zeros(dataset_size, dtype=np.int64)\n",
    "    \n",
    "    # Process in batches\n",
    "    for start_idx in tqdm(range(0, dataset_size, batch_size), desc=\"Processing batches\"):\n",
    "        end_idx = min(start_idx + batch_size, dataset_size)\n",
    "        batch_slice = slice(start_idx, end_idx)\n",
    "        \n",
    "        batch_data = np.array([dataset[i][0] for i in range(start_idx, end_idx)])\n",
    "        batch_labels = np.array([dataset[i][1] for i in range(start_idx, end_idx)])\n",
    "        \n",
    "        if normalize:\n",
    "            batch_data = batch_data / 255.0\n",
    "        \n",
    "        data[batch_slice] = batch_data\n",
    "        labels[batch_slice] = batch_labels\n",
    "    \n",
    "    # Standardize after processing all batches\n",
    "    if standardize:\n",
    "        data_mean = np.mean(data, axis=0)\n",
    "        data_std = np.std(data, axis=0)\n",
    "        data = (data - data_mean) / (data_std + 1e-8)\n",
    "    \n",
    "    return data, labels\n",
    "\n",
    "# Create datasets\n",
    "train_dataset = create_dataset(x_train, y_train)\n",
    "test_dataset = create_dataset(x_test, y_test)\n",
    "\n",
    "# Preprocess\n",
    "train_data, train_labels = pre_process_data(train_dataset)\n",
    "test_data, test_labels = pre_process_data(test_dataset)\n",
    "\n",
    "print(f\"Processed train data shape: {train_data.shape}\")\n",
    "print(f\"Processed train labels shape: {train_labels.shape}\")\n",
    "print(f\"Processed test data shape: {test_data.shape}\")\n",
    "print(f\"Processed test labels shape: {test_labels.shape}\")"
   ]
  }
 ],
 "metadata": {
  "kernelspec": {
   "display_name": "backprop",
   "language": "python",
   "name": "python3"
  },
  "language_info": {
   "codemirror_mode": {
    "name": "ipython",
    "version": 3
   },
   "file_extension": ".py",
   "mimetype": "text/x-python",
   "name": "python",
   "nbconvert_exporter": "python",
   "pygments_lexer": "ipython3",
   "version": "3.11.9"
  }
 },
 "nbformat": 4,
 "nbformat_minor": 2
}
