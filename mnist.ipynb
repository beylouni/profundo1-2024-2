{
 "cells": [
  {
   "cell_type": "code",
   "execution_count": 1,
   "metadata": {},
   "outputs": [
    {
     "ename": "ModuleNotFoundError",
     "evalue": "No module named 'tensorflow'",
     "output_type": "error",
     "traceback": [
      "\u001b[0;31m---------------------------------------------------------------------------\u001b[0m",
      "\u001b[0;31mModuleNotFoundError\u001b[0m                       Traceback (most recent call last)",
      "Cell \u001b[0;32mIn[1], line 3\u001b[0m\n\u001b[1;32m      1\u001b[0m \u001b[38;5;66;03m# Loading MNIST\u001b[39;00m\n\u001b[1;32m      2\u001b[0m \u001b[38;5;28;01mimport\u001b[39;00m \u001b[38;5;21;01mnumpy\u001b[39;00m \u001b[38;5;28;01mas\u001b[39;00m \u001b[38;5;21;01mnp\u001b[39;00m\n\u001b[0;32m----> 3\u001b[0m \u001b[38;5;28;01mfrom\u001b[39;00m \u001b[38;5;21;01mtensorflow\u001b[39;00m\u001b[38;5;21;01m.\u001b[39;00m\u001b[38;5;21;01mkeras\u001b[39;00m\u001b[38;5;21;01m.\u001b[39;00m\u001b[38;5;21;01mdatasets\u001b[39;00m \u001b[38;5;28;01mimport\u001b[39;00m mnist\n\u001b[1;32m      4\u001b[0m \u001b[38;5;28;01mfrom\u001b[39;00m \u001b[38;5;21;01mtqdm\u001b[39;00m \u001b[38;5;28;01mimport\u001b[39;00m tqdm\n\u001b[1;32m      6\u001b[0m \u001b[38;5;66;03m# Download and load the dataset\u001b[39;00m\n",
      "\u001b[0;31mModuleNotFoundError\u001b[0m: No module named 'tensorflow'"
     ]
    }
   ],
   "source": [
    "# Loading MNIST\n",
    "import numpy as np\n",
    "from tensorflow.keras.datasets import mnist\n",
    "from tqdm import tqdm\n",
    "\n",
    "# Download and load the dataset\n",
    "(x_train, y_train), (x_test, y_test) = mnist.load_data()\n",
    "\n",
    "# x_train and x_test are the image data, y_train and y_test are the labels\n",
    "print(x_train.shape)\n",
    "print(y_train.shape)\n",
    "print(x_test.shape)\n",
    "print(y_test.shape)\n",
    "\n",
    "x_train = x_train.reshape(-1, 28*28)\n",
    "x_test = x_test.reshape(-1, 28*28)\n",
    "print(x_train.shape)"
   ]
  },
  {
   "cell_type": "code",
   "execution_count": 6,
   "metadata": {},
   "outputs": [
    {
     "name": "stderr",
     "output_type": "stream",
     "text": [
      "Processing batches: 100%|██████████| 1875/1875 [00:00<00:00, 17560.91it/s]\n",
      "Processing batches: 100%|██████████| 313/313 [00:00<00:00, 23283.51it/s]"
     ]
    },
    {
     "name": "stdout",
     "output_type": "stream",
     "text": [
      "Processed train data shape: (60000, 784)\n",
      "Processed train labels shape: (60000,)\n",
      "Processed test data shape: (10000, 784)\n",
      "Processed test labels shape: (10000,)\n"
     ]
    },
    {
     "name": "stderr",
     "output_type": "stream",
     "text": [
      "\n"
     ]
    }
   ],
   "source": [
    "class Dataset:\n",
    "    def __init__(self, data, labels):\n",
    "        self.data = data\n",
    "        self.labels = labels\n",
    "    \n",
    "    def __len__(self):\n",
    "        return len(self.data)\n",
    "    \n",
    "    def __getitem__(self, idx):\n",
    "        return self.data[idx], self.labels[idx]\n",
    "\n",
    "def create_dataset(x_data, y_data):\n",
    "    return Dataset(x_data, y_data)\n",
    "\n",
    "\n",
    "def pre_process_data(dataset, normalize=True, standardize=True, batch_size=32):\n",
    "    dataset_size = len(dataset)\n",
    "    n_features = dataset[0][0].shape[0]\n",
    "    \n",
    "    data = np.zeros((dataset_size, n_features), dtype=np.float32)\n",
    "    labels = np.zeros(dataset_size, dtype=np.int64)\n",
    "    \n",
    "    # Process in batches\n",
    "    for start_idx in tqdm(range(0, dataset_size, batch_size), desc=\"Processing batches\"):\n",
    "        end_idx = min(start_idx + batch_size, dataset_size)\n",
    "        batch_slice = slice(start_idx, end_idx)\n",
    "        \n",
    "        batch_data = np.array([dataset[i][0] for i in range(start_idx, end_idx)])\n",
    "        batch_labels = np.array([dataset[i][1] for i in range(start_idx, end_idx)])\n",
    "        \n",
    "        if normalize:\n",
    "            batch_data = batch_data / 255.0\n",
    "        \n",
    "        data[batch_slice] = batch_data\n",
    "        labels[batch_slice] = batch_labels\n",
    "    \n",
    "    # Standardize after processing all batches\n",
    "    if standardize:\n",
    "        data_mean = np.mean(data, axis=0)\n",
    "        data_std = np.std(data, axis=0)\n",
    "        data = (data - data_mean) / (data_std + 1e-8)\n",
    "    \n",
    "    return data, labels\n",
    "\n",
    "# Create datasets\n",
    "train_dataset = create_dataset(x_train, y_train)\n",
    "test_dataset = create_dataset(x_test, y_test)\n",
    "\n",
    "# Preprocess\n",
    "train_data, train_labels = pre_process_data(train_dataset)\n",
    "test_data, test_labels = pre_process_data(test_dataset)\n",
    "\n",
    "print(f\"Processed train data shape: {train_data.shape}\")\n",
    "print(f\"Processed train labels shape: {train_labels.shape}\")\n",
    "print(f\"Processed test data shape: {test_data.shape}\")\n",
    "print(f\"Processed test labels shape: {test_labels.shape}\")"
   ]
  }
 ],
 "metadata": {
  "kernelspec": {
   "display_name": "backprop",
   "language": "python",
   "name": "python3"
  },
  "language_info": {
   "codemirror_mode": {
    "name": "ipython",
    "version": 3
   },
   "file_extension": ".py",
   "mimetype": "text/x-python",
   "name": "python",
   "nbconvert_exporter": "python",
   "pygments_lexer": "ipython3",
   "version": "3.12.6"
  }
 },
 "nbformat": 4,
 "nbformat_minor": 2
}
